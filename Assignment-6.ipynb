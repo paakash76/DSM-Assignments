{
 "cells": [
  {
   "cell_type": "code",
   "execution_count": null,
   "id": "23ea4aa9",
   "metadata": {},
   "outputs": [],
   "source": [
    "1. What are keywords in python? Using the keyword library, print all the python keywords.\n",
    "Ans: In Python, keywords are reserved words that have predefined meanings and cannot be used as variable names or identifiers. \n",
    "These keywords are part of the Python language syntax and serve specific purposes in the code. To print all the Python keywords,\n",
    "you can use the keyword library in Python. Here's an example:"
   ]
  },
  {
   "cell_type": "code",
   "execution_count": 6,
   "id": "7aa02d70",
   "metadata": {},
   "outputs": [
    {
     "name": "stdout",
     "output_type": "stream",
     "text": [
      "['False', 'None', 'True', '__peg_parser__', 'and', 'as', 'assert', 'async', 'await', 'break', 'class', 'continue', 'def', 'del', 'elif', 'else', 'except', 'finally', 'for', 'from', 'global', 'if', 'import', 'in', 'is', 'lambda', 'nonlocal', 'not', 'or', 'pass', 'raise', 'return', 'try', 'while', 'with', 'yield']\n"
     ]
    }
   ],
   "source": [
    "import keyword\n",
    "\n",
    "# Get all the Python keywords as a list\n",
    "keywords = keyword.kwlist\n",
    "\n",
    "# Print the list of keywords\n",
    "print(keywords)"
   ]
  },
  {
   "cell_type": "code",
   "execution_count": null,
   "id": "46423e90",
   "metadata": {},
   "outputs": [],
   "source": [
    "2. What are the rules to create variables in python?\n",
    "Ans: The rules to create variables in Python are as follows:\n",
    "\n",
    "a. Variable Names: Variable names can consist of letters (both uppercase and lowercase), digits, and underscores (_), \n",
    "    but they cannot start with a digit. They are case-sensitive, so myVariable and myvariable are considered different variables.\n",
    "\n",
    "b. Reserved Keywords: You cannot use Python's reserved keywords (such as if, for, while, def, etc.) as variable names since \n",
    "    they have predefined meanings in the language.\n",
    "\n",
    "c. No Spaces or Special Characters: Variable names cannot contain spaces or special characters \n",
    "    like !, @, #, $, %, etc. However, underscores (_) are allowed.\n",
    "\n",
    "d. Descriptive and Clear: It is recommended to use meaningful and descriptive names for variables that reflect their \n",
    "    purpose and content. This improves code readability and understanding.\n",
    "\n",
    "e. Case Convention: Python follows a naming convention called snake_case, where words in variable names are separated by \n",
    "    underscores. For example, my_variable, student_name, num_of_apples.\n",
    "\n",
    "f. Avoid Built-in Names: It's best to avoid using names of built-in functions, modules, or libraries \n",
    "    (like print, list, str, math, etc.) as variable names to prevent conflicts and confusion.\n",
    "\n",
    "g. Remembering and following these rules will help you create valid and meaningful variable names in Python."
   ]
  },
  {
   "cell_type": "code",
   "execution_count": null,
   "id": "a1631ad2",
   "metadata": {},
   "outputs": [],
   "source": [
    "3. What are the standards and conventions followed for the nomenclature of variables in python to improve code readability and maintainability?\n",
    "Ans: In Python, there are established standards and conventions for variable nomenclature to improve code readability and maintainability. \n",
    "    The most commonly followed standards include:\n",
    "\n",
    "a. Snake Case: Python conventionally uses snake_case for variable names, where words are separated by underscores. \n",
    "    For example: user_name, num_of_students, total_sales.\n",
    "        \n",
    "b. Descriptive and Meaningful Names: Variable names should be descriptive and reflect the purpose or \n",
    "    content of the variable. This helps in understanding the code without the need for excessive comments. \n",
    "    For example: customer_name, student_age, product_price.\n",
    "        \n",
    "c. Avoid Single-letter Names: Unless used for specific purposes like loop counters or mathematical formulas, \n",
    "    it's best to avoid single-letter variable names. Instead, use descriptive names that convey the purpose of the variable.\n",
    "\n",
    "d. Consistent Naming: Maintain consistency in variable names throughout your codebase. Use similar naming conventions \n",
    "    for variables with similar meanings or roles.\n",
    "    \n",
    "e. Avoid Reserved Keywords: Ensure that variable names do not clash with reserved keywords or built-in functions in Python. \n",
    "    This prevents conflicts and confusion.\n",
    "    \n",
    "f. Use CamelCase for Class Names: For class names, Python conventionally uses CamelCase, where the first letter of each word is capitalized. \n",
    "    For example: CustomerRecord, EmployeeDetails, ProductInventory.\n",
    "        \n",
    "g. Constants: For variables that are meant to be constant and not modified, conventionally, they are named using all uppercase letters with underscores. \n",
    "    For example: MAX_VALUE, CONFIG_FILE_NAME, PI."
   ]
  },
  {
   "cell_type": "code",
   "execution_count": null,
   "id": "aefeb935",
   "metadata": {},
   "outputs": [],
   "source": [
    "4. What will happen if a keyword is used as a variable name?\n",
    "Ans: If a keyword is used as a variable name in Python, it will result in a syntax error. Python keywords are reserved \n",
    "    and have predefined meanings within the language. They are used to represent specific functionalities or operations, \n",
    "    and using them as variable names would lead to conflicts and ambiguity in the code."
   ]
  },
  {
   "cell_type": "code",
   "execution_count": 7,
   "id": "8741365a",
   "metadata": {},
   "outputs": [
    {
     "ename": "SyntaxError",
     "evalue": "invalid syntax (3814821957.py, line 2)",
     "output_type": "error",
     "traceback": [
      "\u001b[1;36m  Input \u001b[1;32mIn [7]\u001b[1;36m\u001b[0m\n\u001b[1;33m    if = 10\u001b[0m\n\u001b[1;37m       ^\u001b[0m\n\u001b[1;31mSyntaxError\u001b[0m\u001b[1;31m:\u001b[0m invalid syntax\n"
     ]
    }
   ],
   "source": [
    "#For example, if you try to use a keyword like if or for as a variable name:\n",
    "if = 10\n",
    "#Running this code will raise a syntax error:\n",
    "'''\n",
    "Python's interpreter expects a valid expression or statement after the if keyword, but using it as a variable name \n",
    "violates the syntax rules and results in an error. To avoid such errors, it is important to choose variable names \n",
    "that do not clash with Python keywords and follow the naming conventions and guidelines for variable naming.\n",
    "'''"
   ]
  },
  {
   "cell_type": "code",
   "execution_count": null,
   "id": "5b91effe",
   "metadata": {},
   "outputs": [],
   "source": [
    "5. For what purpose def keyword is used?\n",
    "Ans: The def keyword in Python is used to define a function. It is an essential part of function declaration \n",
    "    and enables you to create reusable blocks of code that can be called and executed whenever needed. \n",
    "    When defining a function, the def keyword is followed by the function name and parentheses, \n",
    "    which can optionally include parameters. The function code block is indented beneath the def statement."
   ]
  },
  {
   "cell_type": "code",
   "execution_count": 9,
   "id": "3b384abe",
   "metadata": {},
   "outputs": [
    {
     "name": "stdout",
     "output_type": "stream",
     "text": [
      "Hello, John!\n"
     ]
    }
   ],
   "source": [
    "#Here's a simple example of a function defined using the def keyword:\n",
    "def greet(name):\n",
    "    print(\"Hello, \" + name + \"!\")\n",
    "\n",
    "# Calling the function\n",
    "greet(\"John\")\n",
    "'''\n",
    "In this example, def is used to define the function greet(). The function takes a single parameter name and prints \n",
    "a greeting message using that parameter. The function is then called with the argument \"John\" to display the greeting.\n",
    "\n",
    "Using the def keyword allows you to create modular and reusable code, making your program more organized and efficient. \n",
    "Functions help in structuring the logic of your code and promote code reuse, readability, and maintainability.\n",
    "'''"
   ]
  },
  {
   "cell_type": "code",
   "execution_count": null,
   "id": "23405bef",
   "metadata": {},
   "outputs": [],
   "source": [
    "6. What is the operation of this special character ‘\\’?\n",
    "Ans: The special character \\ in Python is known as the escape character. It is used to indicate that the character \n",
    "    immediately following it has a special meaning or needs to be interpreted differently.\n",
    "\n",
    "Here are some common uses of the escape character \\ in Python:\n",
    "\n",
    "a. Escape Sequences: The escape character is used to create escape sequences, which represent special characters \n",
    "    or actions within a string. For example:\n",
    "\n",
    "      \\n represents a newline character.\n",
    "      \\t represents a tab character.\n",
    "      \\\" or \\' represents a double or single quote character within a string, respectively.\n",
    "      \\\\ represents a literal backslash character.\n",
    "\n",
    "b. Continuing Lines: The escape character \\ can be used to continue a statement or expression to the next line. \n",
    "    This is useful for improving code readability when a single line becomes too long.\n",
    "    \n",
    "c. Unicode Characters: The escape character can also be used to represent Unicode characters using their hexadecimal or \n",
    "    Unicode code point values. "
   ]
  },
  {
   "cell_type": "code",
   "execution_count": null,
   "id": "22bc58f0",
   "metadata": {},
   "outputs": [],
   "source": [
    "7. Give an example of the following conditions:\n",
    "(i) Homogeneous list\n",
    "(ii) Heterogeneous set\n",
    "(iii) Homogeneous tuple\n",
    "Ans: (i) Homogeneous list: A homogeneous list in Python is a list where all the elements have the same data type. \n",
    "        Here's an example of a homogeneous list containing integers: numbers = [10, 20, 30, 40, 50]\n",
    "    \n",
    "    (ii) Heterogeneous set: A heterogeneous set is a collection that allows different types of elements to be stored together. \n",
    "        Here's an example of a heterogeneous list containing different data types: {10, 'Hello', 3.14, True}\n",
    "        \n",
    "    (iii) Homogeneous tuple: A homogeneous tuple in Python is a tuple where all the elements have the same data type. \n",
    "        Here's an example of a homogeneous tuple containing integer values: numbers = (2, 4, 6, 8, 10) \n",
    "        In this example, the tuple numbers consists of integers only. All the elements in the tuple have the same data type,\n",
    "        making it a homogeneous tuple. The values 2, 4, 6, 8, and 10 are all integers, and they maintain their order within the tuple."
   ]
  },
  {
   "cell_type": "code",
   "execution_count": null,
   "id": "89a2fac8",
   "metadata": {},
   "outputs": [],
   "source": [
    "8. Explain the mutable and immutable data types with proper explanation & examples.\n",
    "Ans: In Python, data types can be categorized as either mutable or immutable based on whether their values can be changed after they are created.\n",
    "\n",
    "a. Immutable Data Types: Immutable data types are those whose values cannot be modified once they are assigned. \n",
    "    Any attempt to modify an immutable object creates a new object with the updated value. \n",
    "    Some examples of immutable data types in Python include:\n",
    "\n",
    "    int (integer): e.g., x = 5\n",
    "    float (floating-point number): e.g., y = 3.14\n",
    "    str (string): e.g., name = \"John\" \n",
    "    tuple: e.g., coordinates = (10, 20)\n",
    "        \n",
    "b. Mutable Data Types: Mutable data types are those that allow modification of their values after they are created. \n",
    "    Changes made to a mutable object directly affect the object itself, without creating a new object. \n",
    "    Examples of mutable data types in Python include:\n",
    "\n",
    "    list: e.g., numbers = [1, 2, 3]\n",
    "    dict (dictionary): e.g., student = {\"name\": \"John\", \"age\": 20}\n",
    "    set: e.g., fruits = {\"apple\", \"banana\", \"cherry\"}"
   ]
  },
  {
   "cell_type": "code",
   "execution_count": 10,
   "id": "c2aafba5",
   "metadata": {},
   "outputs": [
    {
     "name": "stdout",
     "output_type": "stream",
     "text": [
      "John\n",
      "John Doe\n"
     ]
    }
   ],
   "source": [
    "#Example of Immutable Data Types\n",
    "name = \"John\"\n",
    "print(name)  # Output: John\n",
    "\n",
    "# Attempt to modify the string\n",
    "name += \" Doe\"\n",
    "\n",
    "print(name)  # Output: John Doe\n",
    "'''\n",
    "In this example, when we perform name += \" Doe\", a new string object is created with the concatenated value, \n",
    "while the original string \"John\" remains unchanged. Immutable objects provide data consistency and safety, \n",
    "ensuring that their values cannot be accidentally altered.\n",
    "'''"
   ]
  },
  {
   "cell_type": "code",
   "execution_count": 11,
   "id": "dc6b0003",
   "metadata": {},
   "outputs": [
    {
     "name": "stdout",
     "output_type": "stream",
     "text": [
      "[1, 2, 3, 4, 5]\n",
      "[1, 2, 10, 4, 5]\n"
     ]
    }
   ],
   "source": [
    "#Example of Mutable Data Types\n",
    "numbers = [1, 2, 3, 4, 5]\n",
    "print(numbers)  # Output: [1, 2, 3, 4, 5]\n",
    "\n",
    "# Modify the list by changing an element\n",
    "numbers[2] = 10\n",
    "\n",
    "print(numbers)  # Output: [1, 2, 10, 4, 5]\n",
    "'''\n",
    "In this example, the value at index 2 in the list numbers is directly modified, changing it from 3 to 10. \n",
    "The list itself is mutable, allowing such modifications in-place.\n",
    "'''"
   ]
  },
  {
   "cell_type": "code",
   "execution_count": 12,
   "id": "435777ab",
   "metadata": {},
   "outputs": [
    {
     "name": "stdout",
     "output_type": "stream",
     "text": [
      "    *\n",
      "   ***\n",
      "  *****\n",
      " *******\n",
      "*********\n"
     ]
    }
   ],
   "source": [
    "'''\n",
    "9. Write a code to create the given structure using only for loop.\n",
    "    *\n",
    "   ***\n",
    "  *****\n",
    " *******\n",
    "*********\n",
    "'''\n",
    "#Ans:\n",
    "rows = 5\n",
    "\n",
    "for i in range(rows):\n",
    "    for j in range(rows-i-1):\n",
    "        print(\" \", end=\"\")\n",
    "    for k in range(2*i+1):\n",
    "        print(\"*\", end=\"\")\n",
    "    print()"
   ]
  },
  {
   "cell_type": "code",
   "execution_count": 13,
   "id": "5f2d19b2",
   "metadata": {},
   "outputs": [
    {
     "name": "stdout",
     "output_type": "stream",
     "text": [
      "|||||||||\n",
      " |||||||\n",
      "  |||||\n",
      "   |||\n",
      "    |\n"
     ]
    }
   ],
   "source": [
    "'''\n",
    "Write a code to create the given structure using while loop.\n",
    "|||||||||\n",
    " |||||||\n",
    "  |||||\n",
    "   |||\n",
    "    |\n",
    "'''\n",
    "#Ans:\n",
    "rows = 5\n",
    "i = 0\n",
    "\n",
    "while rows > 0:\n",
    "    j = 0\n",
    "    while j < i:\n",
    "        print(\" \", end=\"\")\n",
    "        j += 1\n",
    "    \n",
    "    k = 0\n",
    "    while k < (2 * rows - 1):\n",
    "        print(\"|\", end=\"\")\n",
    "        k += 1\n",
    "\n",
    "    print()\n",
    "    i += 1\n",
    "    rows -= 1"
   ]
  }
 ],
 "metadata": {
  "kernelspec": {
   "display_name": "Python 3 (ipykernel)",
   "language": "python",
   "name": "python3"
  },
  "language_info": {
   "codemirror_mode": {
    "name": "ipython",
    "version": 3
   },
   "file_extension": ".py",
   "mimetype": "text/x-python",
   "name": "python",
   "nbconvert_exporter": "python",
   "pygments_lexer": "ipython3",
   "version": "3.9.12"
  }
 },
 "nbformat": 4,
 "nbformat_minor": 5
}
