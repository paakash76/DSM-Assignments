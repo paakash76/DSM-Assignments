{
 "cells": [
  {
   "cell_type": "markdown",
   "id": "5a83d5ce",
   "metadata": {},
   "source": [
    "Q.1: In Python, what is the difference between a built-in function and a user-defined function? Provide an\n",
    "example of each.\n",
    "\n",
    "Ans: In Python, the main difference between a built-in function and a user-defined function lies in their origins and how they are defined.\n",
    "\n",
    "1. Built-in Function:\n",
    "   A built-in function is a function that is already defined in the Python programming language and is readily available      for use without requiring any additional steps. These functions are part of the Python standard library and provide        commonly used functionality. Examples of built-in functions in Python include 'print()', 'len()', 'type()', and            'range()'.\n",
    "   \n",
    "2. User-defined Function:\n",
    "   A user-defined function is created by the programmer to perform specific tasks or operations as needed. These functions    are defined by the user and can be customized to suit their requirements. User-defined functions enhance code              modularity, reusability, and maintainability. They can be defined using the 'def' keyword followed by a function name,        parameters, and a block of code to execute."
   ]
  },
  {
   "cell_type": "code",
   "execution_count": 1,
   "id": "209619cc",
   "metadata": {},
   "outputs": [
    {
     "name": "stdout",
     "output_type": "stream",
     "text": [
      "Hello, World!\n",
      "25\n"
     ]
    }
   ],
   "source": [
    "#Example: Built-in Function\n",
    "# Using the built-in function print()\n",
    "print(\"Hello, World!\")\n",
    "\n",
    "#Example: User-defined Function\n",
    "# Defining a user-defined function\n",
    "def calculate_square(number):\n",
    "    return number ** 2\n",
    "\n",
    "# Using the user-defined function\n",
    "result = calculate_square(5)\n",
    "print(result)  # Output: 25\n",
    "\n",
    "'''\n",
    "In the above example, \"calculate_square()\" is a user-defined function that takes a number as a parameter and \n",
    "returns the square of that number. The function is defined by the programmer to perform a specific calculation \n",
    "and can be used repeatedly throughout the code.\n",
    "'''"
   ]
  },
  {
   "cell_type": "markdown",
   "id": "eb501a0f",
   "metadata": {},
   "source": [
    "Q.2: How can you pass arguments to a function in Python? Explain the difference between positional\n",
    "arguments and keyword arguments.\n",
    "\n",
    "Ans: In Python, you can pass arguments to a function in a few different ways:\n",
    "\n",
    "1. Positional Arguments:\n",
    "   Positional arguments are passed to a function based on their position or order. The arguments are matched to the\n",
    "   function parameters based on their respective positions. The number of arguments and their order must match the function\n",
    "   definition. Positional arguments are commonly used when the number of arguments is fixed and known in advance.\n",
    "   \n",
    "2. Keyword Arguments:\n",
    "   Keyword arguments are passed to a function with their corresponding parameter names, followed by an equals sign ('=')\n",
    "   and the argument value. This allows you to specify arguments out of order, as long as you provide the parameter name.\n",
    "   Keyword arguments are useful when you want to make the code more readable and explicitly specify the values for specific\n",
    "   parameters."
   ]
  },
  {
   "cell_type": "code",
   "execution_count": 3,
   "id": "445490a8",
   "metadata": {},
   "outputs": [
    {
     "name": "stdout",
     "output_type": "stream",
     "text": [
      "8\n",
      "Hello, John! Welcome to the chat!\n"
     ]
    }
   ],
   "source": [
    "#Example: Positional Arguments\n",
    "def add_numbers(a, b):\n",
    "    return a + b\n",
    "\n",
    "result = add_numbers(3, 5)\n",
    "print(result)  # Output: 8\n",
    "\n",
    "'''\n",
    "In the above example, \"3\" and \"5\" are positional arguments that are passed to the \"add_numbers()\" function. \n",
    "The first argument \"3\" is assigned to parameter \"a\", and the second argument \"5\" is assigned to parameter \"b\". \n",
    "The function then returns the sum of the two numbers.\n",
    "'''\n",
    "\n",
    "#Example: Keyword Arguments\n",
    "def greet(name, message):\n",
    "    print(f\"Hello, {name}! {message}\")\n",
    "\n",
    "greet(name=\"John\", message=\"Welcome to the chat!\")\n",
    "\n",
    "'''\n",
    "In the above example, the \"greet()\" function takes two keyword arguments, \"name\" and \"message\". \n",
    "By using the parameter names explicitly when calling the function, the order of the arguments can be changed. \n",
    "This makes the code more readable and self-explanatory. Additionally, you can also mix positional and keyword arguments \n",
    "in a function call, but positional arguments must come before keyword arguments. It's worth noting that Python \n",
    "also supports default parameter values, which allow you to define parameters with default values. \n",
    "These default values are used when the corresponding argument is not provided in the function call.\n",
    "Understanding how to pass arguments to functions in Python, whether using positional or keyword arguments, \n",
    "provides flexibility and clarity in function calls, making the code more expressive and maintainable.\n",
    "'''"
   ]
  },
  {
   "cell_type": "markdown",
   "id": "4a5dd4b3",
   "metadata": {},
   "source": [
    "Q.3: What is the purpose of the return statement in a function? Can a function have multiple return\n",
    "statements? Explain with an example.\n",
    "\n",
    "Ans: The purpose of the return statement in a function is to specify the value or values that the function should output or \"return\" back to the caller. When a return statement is executed in a function, it immediately terminates the function execution and passes the specified value(s) back to the caller.\n",
    "\n",
    "Yes, a function can have multiple return statements. However, only one return statement is executed in a single function call. Once a return statement is encountered, the function exits, and the value is returned to the caller. Subsequent return statements in the same function are not executed.\n",
    "\n",
    "By using multiple return statements, you can create flexible functions that can return different values based on certain conditions. It allows you to customize the output of the function based on specific scenarios or input conditions."
   ]
  },
  {
   "cell_type": "code",
   "execution_count": 4,
   "id": "0b9405fb",
   "metadata": {},
   "outputs": [
    {
     "name": "stdout",
     "output_type": "stream",
     "text": [
      "Positive\n",
      "Negative\n",
      "Zero\n"
     ]
    }
   ],
   "source": [
    "#Example:\n",
    "def check_number(number):\n",
    "    if number > 0:\n",
    "        return \"Positive\"\n",
    "    elif number < 0:\n",
    "        return \"Negative\"\n",
    "    else:\n",
    "        return \"Zero\"\n",
    "\n",
    "result1 = check_number(5)\n",
    "print(result1)  # Output: Positive\n",
    "\n",
    "result2 = check_number(-3)\n",
    "print(result2)  # Output: Negative\n",
    "\n",
    "result3 = check_number(0)\n",
    "print(result3)  # Output: Zero\n",
    "\n",
    "'''\n",
    "In the above example, the \"check_number()\" function takes a single argument number. It\n",
    "uses conditional statements to determine whether the number is positive, negative, or zero.\n",
    "Depending on the value of number, the corresponding return statement is executed. Only\n",
    "one return statement is executed in each function call, and the specified value is returned to the caller.\n",
    "'''"
   ]
  },
  {
   "cell_type": "markdown",
   "id": "9b741660",
   "metadata": {},
   "source": [
    "Q.4: What are lambda functions in Python? How are they different from regular functions? Provide an\n",
    "example where a lambda function can be useful.\n",
    "\n",
    "Ans: Lambda functions in Python are anonymous functions written in a compact one-liner syntax. They are useful for simple operations without the need for a formal function definition. Unlike regular functions, lambda functions don't have a name, have their own local scope, and can only contain a single expression.\n",
    "\n",
    "The main differences between lambda functions and regular functions are:\n",
    "\n",
    "1. Syntax: Lambda functions are written in a compact one-liner syntax, while regular functions require the 'def' keyword, function name, parentheses for arguments, and a block of code.\n",
    "\n",
    "2. Anonymous Nature: Lambda functions are anonymous, meaning they don't have a name associated with them. They are primarily used for on-the-fly operations without the need for a formal function definition.\n",
    "\n",
    "3. Scope: Lambda functions have their own local scope and can only contain a single expression. In contrast, regular functions can have multiple statements, local variables, and can access global variables."
   ]
  },
  {
   "cell_type": "code",
   "execution_count": 5,
   "id": "af74a0ee",
   "metadata": {},
   "outputs": [
    {
     "name": "stdout",
     "output_type": "stream",
     "text": [
      "[1, 4, 9, 16, 25]\n"
     ]
    }
   ],
   "source": [
    "#Syntax: \n",
    "#lambda arguments: expression\n",
    "\n",
    "#Here's an example where a lambda function can be useful:\n",
    "numbers = [1, 2, 3, 4, 5]\n",
    "\n",
    "# Using lambda function with map() to calculate squares of numbers\n",
    "squared_numbers = list(map(lambda x: x ** 2, numbers))\n",
    "print(squared_numbers)  # Output: [1, 4, 9, 16, 25]\n",
    "\n",
    "'''\n",
    "In this example, the \"lambda x: x ** 2\" defines a lambda function that takes a single\n",
    "argument \"x\" and returns its square. The \"map()\" function applies this lambda function to\n",
    "each element of the \"numbers\" list, resulting in a new list squared_numbers containing the\n",
    "squares of the original numbers. Lambda functions are useful here because the squaring\n",
    "operation is simple and concise, making it unnecessary to define a separate named function.\n",
    "'''"
   ]
  },
  {
   "cell_type": "markdown",
   "id": "ffd61f6a",
   "metadata": {},
   "source": [
    "Q.5: How does the concept of \"scope\" apply to functions in Python? Explain the difference between local\n",
    "scope and global scope.\n",
    "\n",
    "Ans: In Python, the concept of \"scope\" refers to the visibility and accessibility of variables within different parts of a program. It determines where and how variables can be accessed and modified.\n",
    "\n",
    "1. Local Scope:\n",
    "Local scope refers to variables defined within a specific block or function. Variables declared within a function have local scope and are accessible only within that function. They are created when the function is called and destroyed when the function execution completes. Local variables cannot be accessed outside the function.\n",
    "\n",
    "2. Global Scope:\n",
    "Global scope refers to variables that are defined outside of any function or block and can be accessed from anywhere within the program. Global variables are accessible to all functions, including nested functions, unless they are explicitly shadowed by local variables.\n",
    "\n",
    "When there is a local variable with the same name as a global variable, the local variable takes precedence within its scope. However, you can use the \"global\" keyword to explicitly access and modify a global variable within a function.\n",
    "\n",
    "Understanding the concept of scope is important to ensure proper variable access and avoid naming conflicts. It allows for modular and encapsulated code by controlling the visibility and lifespan of variables within different parts of a program."
   ]
  },
  {
   "cell_type": "code",
   "execution_count": 9,
   "id": "d289c865",
   "metadata": {},
   "outputs": [
    {
     "name": "stdout",
     "output_type": "stream",
     "text": [
      "10\n"
     ]
    },
    {
     "ename": "NameError",
     "evalue": "name 'x' is not defined",
     "output_type": "error",
     "traceback": [
      "\u001b[1;31m---------------------------------------------------------------------------\u001b[0m",
      "\u001b[1;31mNameError\u001b[0m                                 Traceback (most recent call last)",
      "Input \u001b[1;32mIn [9]\u001b[0m, in \u001b[0;36m<cell line: 7>\u001b[1;34m()\u001b[0m\n\u001b[0;32m      4\u001b[0m     \u001b[38;5;28mprint\u001b[39m(x)\n\u001b[0;32m      6\u001b[0m my_function()  \u001b[38;5;66;03m# Output: 10\u001b[39;00m\n\u001b[1;32m----> 7\u001b[0m \u001b[38;5;28mprint\u001b[39m(\u001b[43mx\u001b[49m)\n",
      "\u001b[1;31mNameError\u001b[0m: name 'x' is not defined"
     ]
    }
   ],
   "source": [
    "#Example: Local Scope\n",
    "def my_function():\n",
    "    x = 10  # Local variable\n",
    "    print(x)\n",
    "\n",
    "my_function()  # Output: 10\n",
    "print(x)  # Raises NameError: name 'x' is not defined\n",
    "\n",
    "'''\n",
    "In this example, \"x\" is a local variable defined within the \"my_function()\"\" function. \n",
    "It can only be accessed within the function, and any attempt to access it outside the function will result in a NameError.\n",
    "'''"
   ]
  },
  {
   "cell_type": "code",
   "execution_count": 10,
   "id": "2cb14922",
   "metadata": {},
   "outputs": [
    {
     "name": "stdout",
     "output_type": "stream",
     "text": [
      "20\n"
     ]
    }
   ],
   "source": [
    "#Example: Global Scope\n",
    "y = 20  # Global variable\n",
    "\n",
    "def my_function():\n",
    "    print(y)\n",
    "\n",
    "my_function()  # Output: 20\n",
    "\n",
    "'''\n",
    "In this example, \"y\" is a global variable defined outside the function. It can be accessed and used within \n",
    "the \"my_function()\" function since it is in the global scope.\n",
    "'''"
   ]
  },
  {
   "cell_type": "markdown",
   "id": "5fca2d3e",
   "metadata": {},
   "source": [
    "Q.6: How can you use the \"return\" statement in a Python function to return multiple values?\n",
    "\n",
    "Ans: In Python, you can use the \"return\" statement in a function to return multiple values by separating them with commas."
   ]
  },
  {
   "cell_type": "code",
   "execution_count": 11,
   "id": "cc7827e7",
   "metadata": {},
   "outputs": [
    {
     "name": "stdout",
     "output_type": "stream",
     "text": [
      "(5, 10, 15)\n"
     ]
    }
   ],
   "source": [
    "#Example:\n",
    "def get_values():\n",
    "    x = 5\n",
    "    y = 10\n",
    "    z = 15\n",
    "    return x, y, z\n",
    "\n",
    "result = get_values()\n",
    "print(result)  # Output: (5, 10, 15)"
   ]
  },
  {
   "cell_type": "markdown",
   "id": "5ffcd02b",
   "metadata": {},
   "source": [
    "Q.7: What is the difference between the \"pass by value\" and \"pass by reference\" concepts when it\n",
    "comes to function arguments in Python?\n",
    "\n",
    "Ans: In Python, the concept of \"pass by value\" and \"pass by reference\" doesn't directly apply to function arguments. Instead, the concept of \"passing by assignment\" is used.\n",
    "\n",
    "Python uses a combination of pass by value and pass by reference behavior, depending on the type of the object being passed:\n",
    "\n",
    "1. Immutable Objects (Pass by Value):\n",
    "Immutable objects such as numbers, strings, and tuples are passed by value in Python. When an immutable object is passed as an argument, a copy of the value is created, and the function works with that copy. Any modifications made to the parameter within the function do not affect the original object.\n",
    "\n",
    "2. Mutable Objects (Pass by Reference):\n",
    "Mutable objects such as lists, dictionaries, and sets are passed by reference in Python. When a mutable object is passed as an argument, the function receives a reference to the original object. Any modifications made to the parameter within the function will affect the original object.\n",
    "\n",
    "It's important to note that even though mutable objects are passed by reference, reassigning the parameter variable within the function will not affect the original object outside the function. Only in-place modifications will be reflected in the original object."
   ]
  },
  {
   "cell_type": "code",
   "execution_count": 12,
   "id": "6a04a29d",
   "metadata": {},
   "outputs": [
    {
     "name": "stdout",
     "output_type": "stream",
     "text": [
      "[1, 2, 3, 4]\n",
      "Hello\n"
     ]
    }
   ],
   "source": [
    "#Example:\n",
    "def modify_list(my_list, my_string):\n",
    "    my_list.append(4)\n",
    "    my_string += \" World!\"\n",
    "\n",
    "numbers = [1, 2, 3]\n",
    "greeting = \"Hello\"\n",
    "\n",
    "modify_list(numbers, greeting)\n",
    "\n",
    "print(numbers)   # Output: [1, 2, 3, 4]\n",
    "print(greeting)  # Output: Hello\n",
    "\n",
    "'''\n",
    "In this example, the \"modify_list()\" function takes a list \"my_list\" and a string \"my_string\". \n",
    "The function modifies the list by appending an element, but the string concatenation within the function does not affect the original string.\n",
    "This demonstrates the behavior of mutable and immutable objects in function arguments.\n",
    "'''"
   ]
  },
  {
   "cell_type": "markdown",
   "id": "a2de2304",
   "metadata": {},
   "source": [
    "Q.8: Create a function that can intake integer or decimal value and do following operations:\n",
    "a. Logarithmic function (log x)\n",
    "b. Exponential function (exp(x))\n",
    "c. Power function with base 2 (2**x)\n",
    "d. Square root"
   ]
  },
  {
   "cell_type": "code",
   "execution_count": 13,
   "id": "430fe044",
   "metadata": {},
   "outputs": [
    {
     "name": "stdout",
     "output_type": "stream",
     "text": [
      "(1.5040773967762742, 90.01713130052181, 22.627416997969522, 2.1213203435596424)\n"
     ]
    }
   ],
   "source": [
    "'''\n",
    "Ans: Here's an example of a function that can perform logarithmic, exponential, power (base 2), and square root \n",
    "operations on an integer or decimal value in Python:\n",
    "'''\n",
    "\n",
    "import math\n",
    "\n",
    "def perform_operations(x):\n",
    "    result_log = math.log(x)\n",
    "    result_exp = math.exp(x)\n",
    "    result_power = math.pow(2, x)\n",
    "    result_sqrt = math.sqrt(x)\n",
    "    \n",
    "    return result_log, result_exp, result_power, result_sqrt\n",
    "\n",
    "results = perform_operations(4.5)\n",
    "print(results)\n",
    "\n",
    "'''\n",
    "In this example, the function perform_operations() takes a parameter x, which can be an integer or decimal value. \n",
    "The logarithmic function log(), exponential function exp(), power function pow(), and square root function sqrt() \n",
    "from the math module are used to perform the respective operations on the input value x. \n",
    "The results of these operations are returned as a tuple.\n",
    "'''\n",
    "\n",
    "'''\n",
    "You can call this function with different values and capture the results. This will output a tuple containing \n",
    "the results of the logarithmic, exponential, power (base 2), and square root operations on the input value 4.5 .\n",
    "'''"
   ]
  },
  {
   "cell_type": "markdown",
   "id": "9ca080ca",
   "metadata": {},
   "source": [
    "Q.9: Create a function that takes a full name as an argument and returns first name and last name."
   ]
  },
  {
   "cell_type": "code",
   "execution_count": 14,
   "id": "24d417df",
   "metadata": {},
   "outputs": [
    {
     "name": "stdout",
     "output_type": "stream",
     "text": [
      "('Aakash', 'Patel')\n"
     ]
    }
   ],
   "source": [
    "#Ans:\n",
    "#Here's an example of a function that takes a full name as an argument and returns the first name and last name:\n",
    "def extract_names(full_name):\n",
    "    names = full_name.split()\n",
    "    first_name = names[0]\n",
    "    last_name = names[-1]\n",
    "    return first_name, last_name\n",
    "\n",
    "'''\n",
    "In this example, the function extract_names() takes a parameter full_name, which represents the full name as a string. \n",
    "The split() method is used to split the full name into a list of individual names. The first name is extracted as names[0],\n",
    "and the last name is extracted as names[-1], assuming that the last name is the last element in the list.\n",
    "'''\n",
    "\n",
    "#The function returns a tuple containing the first name and last name. You can call this function with a full name and capture the results:\n",
    "result = extract_names(\"Aakash Patel\")\n",
    "print(result)"
   ]
  }
 ],
 "metadata": {
  "kernelspec": {
   "display_name": "Python 3 (ipykernel)",
   "language": "python",
   "name": "python3"
  },
  "language_info": {
   "codemirror_mode": {
    "name": "ipython",
    "version": 3
   },
   "file_extension": ".py",
   "mimetype": "text/x-python",
   "name": "python",
   "nbconvert_exporter": "python",
   "pygments_lexer": "ipython3",
   "version": "3.9.12"
  }
 },
 "nbformat": 4,
 "nbformat_minor": 5
}
