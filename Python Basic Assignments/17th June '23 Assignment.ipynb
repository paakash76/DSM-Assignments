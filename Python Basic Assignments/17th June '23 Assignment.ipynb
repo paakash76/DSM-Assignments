{
 "cells": [
  {
   "cell_type": "markdown",
   "id": "9f24c336",
   "metadata": {},
   "source": [
    "Q.1: What is the role of try and exception block?\n",
    "\n",
    "Ans: The role of a try-except block in Python is to handle and manage exceptions (errors) that may occur during the execution of code. It allows you to catch and handle specific exceptions gracefully, preventing the program from abruptly terminating."
   ]
  },
  {
   "cell_type": "markdown",
   "id": "04675ac5",
   "metadata": {},
   "source": [
    "Q.2: What is the syntax for a basic try-except block?\n",
    "\n",
    "Ans: \n",
    "\n",
    "try:\n",
    "    # Code that might raise an exception\n",
    "    # ...\n",
    "except ExceptionType:\n",
    "    # Code to handle the exception\n",
    "    # ...\n",
    "    \n",
    "In this syntax, you place the code that may raise an exception inside the try block. If an exception of type ExceptionType (or its subclass) occurs within the try block, the execution is transferred to the corresponding except block. Inside the except block, you can handle the exception by providing the necessary code or actions to be taken when that specific exception occurs."
   ]
  },
  {
   "cell_type": "markdown",
   "id": "bec949ce",
   "metadata": {},
   "source": [
    "Q.3: What happens if an exception occurs inside a try block and there is no matching except block?\n",
    "    \n",
    "Ans: If an exception occurs inside a try block and there is no matching except block to handle that specific exception, the exception will propagate up the call stack. This means that the program will search for an appropriate except block in the calling code or the next higher-level try-except block. If no matching except block is found in any higher-level code, the program will terminate and display a traceback message that includes information about the unhandled exception. "
   ]
  },
  {
   "cell_type": "markdown",
   "id": "620f8461",
   "metadata": {},
   "source": [
    "Q.4: What is the difference between using a bare except block and specifying a specific exception type?\n",
    "\n",
    "Ans: The difference between using a bare except block and specifying a specific exception type is as follows:\n",
    "\n",
    "- Bare Except Block: A bare except block, written as except:, catches and handles all exceptions, regardless of their type. It can make it difficult to diagnose and handle specific exceptions properly because it doesn't provide information about the specific exception that occurred.\n",
    "\n",
    "- Specific Exception Type: Specifying a specific exception type, such as except ValueError:, allows you to catch and handle only the specified exception. This approach provides more control and clarity in handling specific exceptions and allows for different error handling strategies based on the type of exception encountered. It is generally recommended to handle specific exceptions whenever possible for more precise error handling."
   ]
  },
  {
   "cell_type": "code",
   "execution_count": 2,
   "id": "4b9cdcd0",
   "metadata": {},
   "outputs": [
    {
     "name": "stdout",
     "output_type": "stream",
     "text": [
      "Error: Division by zero\n",
      "Error: Invalid conversion\n",
      "Execution continues...\n"
     ]
    }
   ],
   "source": [
    "#Q.5: Can you have nested try-except blocks in Python? If yes, then give an example.\n",
    "\n",
    "#Ans: Yes, it is possible to have nested try-except blocks in Python. \n",
    "#This allows for more granular exception handling and the ability to handle different exceptions at different levels of code. \n",
    "\n",
    "#Example:\n",
    "\n",
    "try:\n",
    "    # Outer try block\n",
    "    outer_value = 10 / 0\n",
    "except ZeroDivisionError:\n",
    "    print(\"Error: Division by zero\")\n",
    "\n",
    "    try:\n",
    "        # Inner try block\n",
    "        inner_value = int(\"abc\")\n",
    "    except ValueError:\n",
    "        print(\"Error: Invalid conversion\")\n",
    "\n",
    "print(\"Execution continues...\")"
   ]
  },
  {
   "cell_type": "markdown",
   "id": "5059adf8",
   "metadata": {},
   "source": [
    "In this example, there is an outer try-except block and an inner try-except block. The outer try block attempts to perform a division by zero operation, which raises a ZeroDivisionError. The corresponding except block handles this exception and prints an error message.\n",
    "\n",
    "Inside the except block of the outer try block, there is an inner try-except block. The inner try block attempts to convert the string \"abc\" to an integer, which raises a ValueError. The except block inside the inner try block handles this exception and prints another error message.\n",
    "\n",
    "After the inner except block, the program continues execution outside the inner try-except block and outside the outer try-except block. This demonstrates the concept of nested try-except blocks in Python."
   ]
  },
  {
   "cell_type": "code",
   "execution_count": 3,
   "id": "d3515832",
   "metadata": {},
   "outputs": [
    {
     "name": "stdout",
     "output_type": "stream",
     "text": [
      "ZeroDivisionError occurred\n"
     ]
    }
   ],
   "source": [
    "#Q.6: Can we use multiple exception blocks, if yes then give an example.\n",
    "    \n",
    "#Ans: Yes, it is possible to use multiple except blocks to handle different types of exceptions in Python. Here's an example:\n",
    "\n",
    "try:\n",
    "    # Code that may raise exceptions\n",
    "    x = 10 / 0\n",
    "except ValueError:\n",
    "    # Handle ValueError\n",
    "    print(\"ValueError occurred\")\n",
    "except ZeroDivisionError:\n",
    "    # Handle ZeroDivisionError\n",
    "    print(\"ZeroDivisionError occurred\")\n",
    "except Exception as e:\n",
    "    # Handle other exceptions\n",
    "    print(\"An exception occurred:\", str(e))"
   ]
  },
  {
   "cell_type": "markdown",
   "id": "8a8a33f3",
   "metadata": {},
   "source": [
    "In this example, there are multiple except blocks following the try block. Each except block is associated with a specific exception type and handles that particular exception.\n",
    "\n",
    "If a ValueError occurs, the first except block will be executed, printing the message \"ValueError occurred\". If a ZeroDivisionError occurs, the second except block will handle it and print \"ZeroDivisionError occurred\".\n",
    "\n",
    "The last except block, which doesn't specify a specific exception type, serves as a fallback and can handle any other exceptions not caught by the preceding except blocks. It captures the exception in the variable e and prints a generic error message along with the specific exception message.\n",
    "\n",
    "By using multiple except blocks, you can handle different exceptions separately and provide appropriate error handling for each specific case."
   ]
  },
  {
   "cell_type": "markdown",
   "id": "d0800ecb",
   "metadata": {},
   "source": [
    "Q.7: Write the reason due to which following errors are raised:\n",
    "a. EOFError\n",
    "b. FloatingPointError\n",
    "c. IndexError\n",
    "d. MemoryError\n",
    "e. OverflowError\n",
    "f. TabError\n",
    "g. ValueError\n",
    "\n",
    "Ans: Here are the reasons for the raised errors:\n",
    "\n",
    "a. EOFError: This error is raised when the input() function hits the end-of-file (EOF) condition, typically when reading input from a file or standard input stream, and there is no more data to read.\n",
    "\n",
    "b. FloatingPointError: This error is raised when a floating-point operation fails to execute correctly, such as division by zero or an invalid mathematical operation involving floating-point numbers.\n",
    "\n",
    "c. IndexError: This error is raised when attempting to access an index of a sequence (such as a list or string) that is out of range. It occurs when an invalid index is used to access an element that does not exist.\n",
    "\n",
    "d. MemoryError: This error is raised when the system runs out of memory to allocate for an object or operation. It occurs when there is insufficient memory available to fulfill a memory allocation request.\n",
    "\n",
    "e. OverflowError: This error is raised when the result of a numerical operation exceeds the maximum representable value for a numeric type. It typically occurs when performing calculations that result in a value beyond the range that can be stored in the given numeric type.\n",
    "\n",
    "f. TabError: This error is raised when indentation in Python code is incorrect, specifically related to the use of tabs and spaces. It occurs when there is a mix of tabs and spaces or inconsistent indentation levels, leading to a syntax error.\n",
    "\n",
    "g. ValueError: This error is raised when an operation or function receives an argument of the correct type but with an invalid value. It occurs when a value is passed to a function or operation that is not appropriate or falls outside the expected range or format.\n",
    "\n",
    "These errors are raised by Python to indicate specific exceptional conditions or mistakes in the code execution."
   ]
  },
  {
   "cell_type": "markdown",
   "id": "f9591c39",
   "metadata": {},
   "source": [
    "Q.8: Write code for the following given scenario and add try-exception block to it.\n",
    "a. Program to divide two numbers\n",
    "b. Program to convert a string to an integer\n",
    "c. Program to access an element in a list\n",
    "d. Program to handle a specific exception\n",
    "e. Program to handle any exception"
   ]
  },
  {
   "cell_type": "code",
   "execution_count": 5,
   "id": "c387f627",
   "metadata": {},
   "outputs": [
    {
     "name": "stdout",
     "output_type": "stream",
     "text": [
      "Enter the dividend: 6\n",
      "Enter the divisor: 2\n",
      "Result: 3.0\n",
      "Enter a number: 45\n",
      "Number: 45\n",
      "Enter an index: 3\n",
      "Error: Index out of range\n",
      "Enter a number: 3\n",
      "Result: 3.3333333333333335\n",
      "Enter the first number: 8\n",
      "Enter the second number: 9\n",
      "Result: 0.8888888888888888\n"
     ]
    }
   ],
   "source": [
    "#Ans:\n",
    "\n",
    "#a. Program to divide two numbers:\n",
    "\n",
    "try:\n",
    "    dividend = int(input(\"Enter the dividend: \"))\n",
    "    divisor = int(input(\"Enter the divisor: \"))\n",
    "    result = dividend / divisor\n",
    "    print(\"Result:\", result)\n",
    "except ZeroDivisionError:\n",
    "    print(\"Error: Division by zero\")\n",
    "\n",
    "    \n",
    "#b. Program to convert a string to an integer:\n",
    "\n",
    "try:\n",
    "    num_str = input(\"Enter a number: \")\n",
    "    num = int(num_str)\n",
    "    print(\"Number:\", num)\n",
    "except ValueError:\n",
    "    print(\"Error: Invalid input\")\n",
    "\n",
    "    \n",
    "#c. Program to access an element in a list:\n",
    "\n",
    "try:\n",
    "    my_list = [1, 2, 3]\n",
    "    index = int(input(\"Enter an index: \"))\n",
    "    element = my_list[index]\n",
    "    print(\"Element:\", element)\n",
    "except IndexError:\n",
    "    print(\"Error: Index out of range\")\n",
    "\n",
    "    \n",
    "#d. Program to handle a specific exception:\n",
    "\n",
    "try:\n",
    "    num = int(input(\"Enter a number: \"))\n",
    "    result = 10 / num\n",
    "    print(\"Result:\", result)\n",
    "except ZeroDivisionError:\n",
    "    print(\"Error: Division by zero\")\n",
    "except ValueError:\n",
    "    print(\"Error: Invalid input\")\n",
    "\n",
    "    \n",
    "#e. Program to handle any exception:\n",
    "\n",
    "try:\n",
    "    # Code that may raise an exception\n",
    "    num1 = int(input(\"Enter the first number: \"))\n",
    "    num2 = int(input(\"Enter the second number: \"))\n",
    "    result = num1 / num2\n",
    "    print(\"Result:\", result)\n",
    "except Exception as e:\n",
    "    print(\"An error occurred:\", str(e))\n",
    "    \n",
    "\n",
    "'''\n",
    "In these examples, the try-except blocks are used to handle specific exceptions or any exception that may occur \n",
    "during the execution of the code. The code inside the try block is the code that is susceptible to raising an exception. \n",
    "If an exception occurs, it is caught by the appropriate except block, and the corresponding error message is printed.\n",
    "'''"
   ]
  }
 ],
 "metadata": {
  "kernelspec": {
   "display_name": "Python 3 (ipykernel)",
   "language": "python",
   "name": "python3"
  },
  "language_info": {
   "codemirror_mode": {
    "name": "ipython",
    "version": 3
   },
   "file_extension": ".py",
   "mimetype": "text/x-python",
   "name": "python",
   "nbconvert_exporter": "python",
   "pygments_lexer": "ipython3",
   "version": "3.9.12"
  }
 },
 "nbformat": 4,
 "nbformat_minor": 5
}
