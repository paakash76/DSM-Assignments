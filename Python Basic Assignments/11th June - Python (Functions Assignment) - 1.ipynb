{
 "cells": [
  {
   "cell_type": "markdown",
   "id": "e2bf356d",
   "metadata": {},
   "source": [
    "Q.1: What is a lambda function in Python, and how does it differ from a regular function?\n",
    "\n",
    "Ans: A lambda function in Python is a small, anonymous function defined using the lambda keyword. It is typically used for simple, one-line operations and does not require a formal function definition like regular functions. Lambda functions are concise and can be used inline without assigning them a name."
   ]
  },
  {
   "cell_type": "markdown",
   "id": "a2989545",
   "metadata": {},
   "source": [
    "Q.2: Can a lambda function in Python have multiple arguments? If yes, how can you define and use them?\n",
    "\n",
    "Ans: Yes, a lambda function in Python can have multiple arguments. You can define and use them by listing the arguments separated by commas before the colon (:) in the lambda function syntax.\n",
    "\n",
    "Lambda functions with multiple arguments are useful in scenarios where you need a simple, inline function for specific operations without the need for a full function definition."
   ]
  },
  {
   "cell_type": "code",
   "execution_count": 1,
   "id": "97593cfe",
   "metadata": {},
   "outputs": [
    {
     "name": "stdout",
     "output_type": "stream",
     "text": [
      "15\n"
     ]
    }
   ],
   "source": [
    "#Here's an example of a lambda function with multiple arguments:\n",
    "\n",
    "multiply = lambda x, y: x * y\n",
    "\n",
    "result = multiply(5, 3)\n",
    "print(result)  # Output: 15\n",
    "\n",
    "'''\n",
    "In this example, the lambda function multiply takes two arguments x and y, and the expression x * y is evaluated and returned.\n",
    "When calling the lambda function with multiply(5, 3), it multiplies the values of 5 and 3 and returns the result 15.\n",
    "'''"
   ]
  },
  {
   "cell_type": "markdown",
   "id": "caa531dd",
   "metadata": {},
   "source": [
    "Q.3: How are lambda functions typically used in Python? Provide an example use case.\n",
    "\n",
    "Ans: Lambda functions in Python are typically used in situations where a small, concise function is required for a specific operation, especially when using higher-order functions or in functional programming paradigms. They are commonly used as arguments to built-in functions like map(), filter(), and reduce(), or as inline functions for quick calculations.\n",
    "\n",
    "By using a lambda function in this scenario, we avoid the need to define a separate named function for a simple operation. Lambda functions allow us to write compact and inline functions, making the code more concise and readable.\n",
    "\n",
    "Overall, lambda functions are commonly used in Python to create short and anonymous functions that can be applied in specific contexts where a full function definition is unnecessary or less convenient."
   ]
  },
  {
   "cell_type": "code",
   "execution_count": 2,
   "id": "87f26677",
   "metadata": {},
   "outputs": [
    {
     "name": "stdout",
     "output_type": "stream",
     "text": [
      "[1, 4, 9, 16, 25]\n"
     ]
    }
   ],
   "source": [
    "#Example:\n",
    "\n",
    "numbers = [1, 2, 3, 4, 5]\n",
    "\n",
    "# Using lambda function with map() to calculate squares of numbers\n",
    "squared_numbers = list(map(lambda x: x ** 2, numbers))\n",
    "print(squared_numbers)  # Output: [1, 4, 9, 16, 25]\n",
    "\n",
    "'''\n",
    "In this example, the map() function is used to apply a lambda function to each element of the numbers list. \n",
    "The lambda function lambda x: x ** 2 squares each number in the list. The result is a new list squared_numbers \n",
    "containing the squares of the original numbers.\n",
    "'''"
   ]
  },
  {
   "cell_type": "markdown",
   "id": "01bf215e",
   "metadata": {},
   "source": [
    "Q.4: What are the advantages and limitations of lambda functions compared to regular functions in Python?\n",
    "\n",
    "Ans: Advantages of Lambda Functions:\n",
    "1. Concise and Readable: Lambda functions allow for a compact and inline function definition, making the code more concise and readable.\n",
    "2. Anonymous: Lambda functions are anonymous, meaning they don't require a formal function name. This is useful for one-time or small-scale operations where creating a named function would be unnecessary.\n",
    "3. Convenience: Lambda functions can be used as arguments to higher-order functions like map(), filter(), and reduce(), providing a convenient way to perform quick calculations or transformations.\n",
    "\n",
    "Limitations of Lambda Functions:\n",
    "\n",
    "1. Single Expression: Lambda functions are limited to a single expression, which can make them unsuitable for more complex operations that require multiple statements or control flow.\n",
    "2. Lack of Documentation: Being anonymous, lambda functions lack the ability to have formal documentation strings (docstrings), which can make it harder for others to understand their purpose and usage.\n",
    "3. Limited Functionality: Lambda functions are best suited for simple, one-line operations. For more complex tasks or reusable functions, regular functions with named definitions are more appropriate.\n",
    "\n",
    "In summary, lambda functions offer conciseness, anonymity, and convenience for simple operations, especially when used in conjunction with higher-order functions. However, they are limited in functionality and lack the flexibility of regular functions, which can handle more complex tasks and provide better code organization and documentation."
   ]
  },
  {
   "cell_type": "markdown",
   "id": "072bec3f",
   "metadata": {},
   "source": [
    "Q.5: Are lambda functions in Python able to access variables defined outside of their own scope?\n",
    "Explain with an example.\n",
    "\n",
    "Ans: Yes, lambda functions in Python can access variables defined outside of their own scope. They have access to variables from the enclosing scope, including global variables and variables defined in the surrounding function."
   ]
  },
  {
   "cell_type": "code",
   "execution_count": 3,
   "id": "e04e67e2",
   "metadata": {},
   "outputs": [
    {
     "name": "stdout",
     "output_type": "stream",
     "text": [
      "15\n"
     ]
    }
   ],
   "source": [
    "#Here's an example that demonstrates the access of variables by a lambda function:\n",
    "\n",
    "def outer_function():\n",
    "    x = 10\n",
    "\n",
    "    # Lambda function accessing the variable 'x' from the enclosing scope\n",
    "    lambda_func = lambda y: x + y\n",
    "\n",
    "    return lambda_func\n",
    "\n",
    "lambda_add = outer_function()\n",
    "result = lambda_add(5)\n",
    "print(result)  # Output: 15"
   ]
  },
  {
   "cell_type": "markdown",
   "id": "405398ad",
   "metadata": {},
   "source": [
    "In this example, the outer_function() defines a variable x with a value of 10. Inside the function, a lambda function lambda_func is defined, which takes an argument y and adds it to the variable x. The lambda function is then returned from the outer_function().\n",
    "\n",
    "When outer_function() is called and assigned to lambda_add, it captures the lambda function along with the value of x from its enclosing scope. Subsequently, calling lambda_add(5) adds the argument 5 to the captured value of x, resulting in the output 15.\n",
    "\n",
    "This example illustrates how lambda functions can access and \"remember\" variables from their surrounding scope, even after the enclosing function has completed execution."
   ]
  },
  {
   "cell_type": "code",
   "execution_count": 4,
   "id": "9db0881f",
   "metadata": {},
   "outputs": [
    {
     "name": "stdout",
     "output_type": "stream",
     "text": [
      "25\n"
     ]
    }
   ],
   "source": [
    "#Q.6: Write a lambda function to calculate the square of a given number.\n",
    "\n",
    "#Ans: Here's a lambda function to calculate the square of a given number:\n",
    "\n",
    "square = lambda x: x ** 2\n",
    "\n",
    "'''\n",
    "In this lambda function, x is the input parameter, and the expression x ** 2 calculates the square of x. \n",
    "You can use this lambda function to calculate the square of any number by calling it, like so:\n",
    "'''\n",
    "\n",
    "result = square(5)\n",
    "print(result)  # Output: 25\n",
    "\n",
    "'''\n",
    "Calling square(5) will pass 5 as the argument to the lambda function and calculate its square, resulting in the output 25.\n",
    "'''"
   ]
  },
  {
   "cell_type": "code",
   "execution_count": 6,
   "id": "1ecc3601",
   "metadata": {},
   "outputs": [
    {
     "name": "stdout",
     "output_type": "stream",
     "text": [
      "9\n"
     ]
    }
   ],
   "source": [
    "#Q.7: Create a lambda function to find the maximum value in a list of integers.\n",
    "\n",
    "#Ans: Here's a lambda function to find the maximum value in a list of integers:\n",
    "\n",
    "max_value = lambda lst: max(lst)\n",
    "\n",
    "'''\n",
    "In this lambda function, lst is the input parameter representing the list of integers. \n",
    "The max() function is used within the lambda function to find the maximum value in the list. \n",
    "The lambda function returns this maximum value.\n",
    "'''\n",
    "#You can use this lambda function to find the maximum value in a list by calling it, like so:\n",
    "\n",
    "numbers = [3, 7, 1, 9, 5]\n",
    "result = max_value(numbers)\n",
    "print(result)  # Output: 9\n",
    "\n",
    "'''\n",
    "Calling max_value(numbers) will pass the numbers list as the argument to the lambda function, \n",
    "which will find the maximum value within the list and return it. The output will be 9, \n",
    "which is the maximum value in the given list.\n",
    "'''"
   ]
  },
  {
   "cell_type": "code",
   "execution_count": 7,
   "id": "c7d816df",
   "metadata": {},
   "outputs": [
    {
     "name": "stdout",
     "output_type": "stream",
     "text": [
      "[2, 4]\n"
     ]
    }
   ],
   "source": [
    "#Q.8: Implement a lambda function to filter out all the even numbers from a list of integers.\n",
    "\n",
    "#Ans: Here's a lambda function to filter out all the even numbers from a list of integers:\n",
    "\n",
    "even_numbers = lambda lst: list(filter(lambda x: x % 2 == 0, lst))\n",
    "\n",
    "numbers = [3, 7, 2, 9, 4, 5]\n",
    "result = even_numbers(numbers)\n",
    "print(result)  # Output: [2, 4]"
   ]
  },
  {
   "cell_type": "code",
   "execution_count": 8,
   "id": "d1ac1e6c",
   "metadata": {},
   "outputs": [
    {
     "name": "stdout",
     "output_type": "stream",
     "text": [
      "['date', 'apple', 'banana', 'cherry']\n"
     ]
    }
   ],
   "source": [
    "#Q.9: Write a lambda function to sort a list of strings in ascending order based on the length of each string.\n",
    "\n",
    "#Ans: Here's a lambda function to sort a list of strings in ascending order based on the length of each string:\n",
    "\n",
    "sort_strings = lambda lst: sorted(lst, key=lambda x: len(x))\n",
    "\n",
    "strings = [\"apple\", \"banana\", \"cherry\", \"date\"]\n",
    "result = sort_strings(strings)\n",
    "print(result)  # Output: ['date', 'apple', 'cherry', 'banana']"
   ]
  },
  {
   "cell_type": "code",
   "execution_count": 9,
   "id": "e4027d89",
   "metadata": {},
   "outputs": [
    {
     "name": "stdout",
     "output_type": "stream",
     "text": [
      "[4, 5]\n"
     ]
    }
   ],
   "source": [
    "#Q.10: Create a lambda function that takes two lists as input and returns a new list containing the common elements between the two lists.\n",
    "\n",
    "#Ans: Here's a lambda function that takes two lists as input and returns a new list containing the common elements between the two lists:\n",
    "\n",
    "find_common_elements = lambda list1, list2: list(filter(lambda x: x in list1, list2))\n",
    "\n",
    "list1 = [1, 2, 3, 4, 5]\n",
    "list2 = [4, 5, 6, 7, 8]\n",
    "result = find_common_elements(list1, list2)\n",
    "print(result)  # Output: [4, 5]"
   ]
  },
  {
   "cell_type": "code",
   "execution_count": 10,
   "id": "1fe0b98e",
   "metadata": {},
   "outputs": [
    {
     "name": "stdout",
     "output_type": "stream",
     "text": [
      "120\n"
     ]
    }
   ],
   "source": [
    "#Q.11: Write a recursive function to calculate the factorial of a given positive integer.\n",
    "\n",
    "#Ans: \n",
    "\n",
    "def factorial(n):\n",
    "    if n == 0:\n",
    "        return 1\n",
    "    else:\n",
    "        return n * factorial(n - 1)\n",
    "\n",
    "result = factorial(5)\n",
    "print(result)  # Output: 120"
   ]
  },
  {
   "cell_type": "code",
   "execution_count": 11,
   "id": "b4e7a988",
   "metadata": {},
   "outputs": [
    {
     "name": "stdout",
     "output_type": "stream",
     "text": [
      "13\n"
     ]
    }
   ],
   "source": [
    "#Q.12: Implement a recursive function to compute the nth Fibonacci number.\n",
    "\n",
    "#Ans:\n",
    "\n",
    "def fibonacci(n):\n",
    "    if n <= 1:\n",
    "        return n\n",
    "    else:\n",
    "        return fibonacci(n - 1) + fibonacci(n - 2)\n",
    "\n",
    "result = fibonacci(7)\n",
    "print(result)  # Output: 13"
   ]
  },
  {
   "cell_type": "code",
   "execution_count": 12,
   "id": "a182eed3",
   "metadata": {},
   "outputs": [
    {
     "name": "stdout",
     "output_type": "stream",
     "text": [
      "15\n"
     ]
    }
   ],
   "source": [
    "#Q.13: Create a recursive function to find the sum of all the elements in a given list.\n",
    "\n",
    "#Ans: \n",
    "\n",
    "def sum_list_elements(lst):\n",
    "    if not lst:\n",
    "        return 0\n",
    "    else:\n",
    "        return lst[0] + sum_list_elements(lst[1:])\n",
    "\n",
    "numbers = [1, 2, 3, 4, 5]\n",
    "result = sum_list_elements(numbers)\n",
    "print(result)  # Output: 15"
   ]
  },
  {
   "cell_type": "code",
   "execution_count": 13,
   "id": "cce0d952",
   "metadata": {},
   "outputs": [
    {
     "name": "stdout",
     "output_type": "stream",
     "text": [
      "True\n",
      "False\n"
     ]
    }
   ],
   "source": [
    "#Q.14: Write a recursive function to determine whether a given string is a palindrome.\n",
    "\n",
    "#Ans:\n",
    "\n",
    "def is_palindrome(s):\n",
    "    if len(s) <= 1:\n",
    "        return True\n",
    "    else:\n",
    "        if s[0] == s[-1]:\n",
    "            return is_palindrome(s[1:-1])\n",
    "        else:\n",
    "            return False\n",
    "\n",
    "result = is_palindrome(\"racecar\")\n",
    "print(result)  # Output: True\n",
    "\n",
    "result = is_palindrome(\"hello\")\n",
    "print(result)  # Output: False"
   ]
  },
  {
   "cell_type": "code",
   "execution_count": 14,
   "id": "c2d0754d",
   "metadata": {},
   "outputs": [
    {
     "name": "stdout",
     "output_type": "stream",
     "text": [
      "12\n",
      "12\n"
     ]
    }
   ],
   "source": [
    "#Q.15: Implement a recursive function to find the greatest common divisor (GCD) of two positive integers.\n",
    "\n",
    "#Ans:\n",
    "\n",
    "def gcd(a, b):\n",
    "    if b == 0:\n",
    "        return a\n",
    "    else:\n",
    "        return gcd(b, a % b)\n",
    "\n",
    "result = gcd(24, 36)\n",
    "print(result)  # Output: 12\n",
    "\n",
    "result = gcd(48, 60)\n",
    "print(result)  # Output: 12"
   ]
  }
 ],
 "metadata": {
  "kernelspec": {
   "display_name": "Python 3 (ipykernel)",
   "language": "python",
   "name": "python3"
  },
  "language_info": {
   "codemirror_mode": {
    "name": "ipython",
    "version": 3
   },
   "file_extension": ".py",
   "mimetype": "text/x-python",
   "name": "python",
   "nbconvert_exporter": "python",
   "pygments_lexer": "ipython3",
   "version": "3.9.12"
  }
 },
 "nbformat": 4,
 "nbformat_minor": 5
}
