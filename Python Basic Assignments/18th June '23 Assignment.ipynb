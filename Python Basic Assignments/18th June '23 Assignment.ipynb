{
 "cells": [
  {
   "cell_type": "markdown",
   "id": "1af9c155",
   "metadata": {},
   "source": [
    "Q.1: What is the role of the 'else' block in a try-except statement? Provide an example\n",
    "scenario where it would be useful.\n",
    "\n",
    "Ans: The 'else' block in a try-except statement is optional and is executed only if no exception is raised within the try block. Its role is to specify the code that should run when the try block completes successfully without any exceptions."
   ]
  },
  {
   "cell_type": "code",
   "execution_count": 1,
   "id": "8238c29b",
   "metadata": {},
   "outputs": [
    {
     "name": "stdout",
     "output_type": "stream",
     "text": [
      "Enter the first number: 0\n",
      "Enter the second number: 0\n",
      "Error: Division by zero\n"
     ]
    }
   ],
   "source": [
    "#Here's an example scenario where the 'else' block would be useful:\n",
    "\n",
    "try:\n",
    "    num1 = int(input(\"Enter the first number: \"))\n",
    "    num2 = int(input(\"Enter the second number: \"))\n",
    "    result = num1 / num2\n",
    "except ZeroDivisionError:\n",
    "    print(\"Error: Division by zero\")\n",
    "else:\n",
    "    print(\"Result:\", result)"
   ]
  },
  {
   "cell_type": "markdown",
   "id": "61449ce9",
   "metadata": {},
   "source": [
    "In this example, the user is prompted to enter two numbers. If the user enters valid numbers and no ZeroDivisionError occurs during the division operation, the 'else' block is executed, printing the result. However, if a ZeroDivisionError occurs, the except block is executed, displaying an appropriate error message.\n",
    "\n",
    "Using the 'else' block allows you to separate the code that handles exceptions from the code that should execute when no exceptions occur. It can be useful when you want to differentiate between exception handling and the normal execution flow after the try block."
   ]
  },
  {
   "cell_type": "markdown",
   "id": "1ab0d05f",
   "metadata": {},
   "source": [
    "Q.2: Can a try-except block be nested inside another try-except block? Explain with an\n",
    "example.\n",
    "\n",
    "Ans: Yes, a try-except block can be nested inside another try-except block. This allows for more fine-grained exception handling and the ability to handle different exceptions at different levels of code."
   ]
  },
  {
   "cell_type": "code",
   "execution_count": 2,
   "id": "c3794ce8",
   "metadata": {},
   "outputs": [
    {
     "name": "stdout",
     "output_type": "stream",
     "text": [
      "Enter the first number: 3\n",
      "Enter the second number: 0\n",
      "Error: Division by zero\n"
     ]
    }
   ],
   "source": [
    "#Here's an example to illustrate nested try-except blocks:\n",
    "\n",
    "try:\n",
    "    # Outer try block\n",
    "    num1 = int(input(\"Enter the first number: \"))\n",
    "    num2 = int(input(\"Enter the second number: \"))\n",
    "\n",
    "    try:\n",
    "        # Inner try block\n",
    "        result = num1 / num2\n",
    "        print(\"Result:\", result)\n",
    "    except ZeroDivisionError:\n",
    "        print(\"Error: Division by zero\")\n",
    "\n",
    "except ValueError:\n",
    "    print(\"Error: Invalid input\")"
   ]
  },
  {
   "cell_type": "markdown",
   "id": "c69eeaa5",
   "metadata": {},
   "source": [
    "In this example, there is an outer try-except block and an inner try-except block.\n",
    "\n",
    "The outer try block attempts to convert user input into integers. If a ValueError occurs (e.g., non-numeric input), the outer except block handles it and prints an appropriate error message.\n",
    "\n",
    "Inside the outer try block, there is an inner try-except block that performs division. If a ZeroDivisionError occurs (e.g., division by zero), the inner except block handles it and displays an error message.\n",
    "\n",
    "By nesting the try-except blocks, you can handle different exceptions at different levels of code, providing more specific error handling for each scenario."
   ]
  },
  {
   "cell_type": "markdown",
   "id": "ab85fdcf",
   "metadata": {},
   "source": [
    "Q.3: How can you create a custom exception class in Python? Provide an example that\n",
    "demonstrates its usage.\n",
    "\n",
    "Ans: To create a custom exception class in Python, you can define a new class that inherits from the built-in Exception class or any of its subclasses. This allows you to define your own specific exception types with custom behavior."
   ]
  },
  {
   "cell_type": "code",
   "execution_count": 3,
   "id": "184fcc3b",
   "metadata": {},
   "outputs": [
    {
     "name": "stdout",
     "output_type": "stream",
     "text": [
      "Error: Division by zero is not allowed\n"
     ]
    }
   ],
   "source": [
    "#Here's an example that demonstrates the creation and usage of a custom exception class:\n",
    "\n",
    "class CustomException(Exception):\n",
    "    pass\n",
    "\n",
    "def divide_numbers(num1, num2):\n",
    "    if num2 == 0:\n",
    "        raise CustomException(\"Division by zero is not allowed\")\n",
    "    return num1 / num2\n",
    "\n",
    "try:\n",
    "    num1 = 10\n",
    "    num2 = 0\n",
    "    result = divide_numbers(num1, num2)\n",
    "    print(\"Result:\", result)\n",
    "except CustomException as e:\n",
    "    print(\"Error:\", str(e))"
   ]
  },
  {
   "cell_type": "markdown",
   "id": "1e67b526",
   "metadata": {},
   "source": [
    "In this example, a custom exception class named CustomException is created by inheriting from the Exception class. The CustomException class doesn't have any additional methods or properties and simply inherits the behavior of the base Exception class.\n",
    "\n",
    "The divide_numbers function performs division between two numbers. If the second number is zero, it raises a CustomException with a custom error message.\n",
    "\n",
    "Inside the try block, the division operation is attempted. If a CustomException is raised, the except block catches it and prints the error message using the str(e) expression, where e is the instance of the CustomException class.\n",
    "\n",
    "By creating custom exception classes, you can define your own specific exception types to handle exceptional conditions in your code and provide meaningful error messages or specific error handling logic for those scenarios."
   ]
  },
  {
   "cell_type": "markdown",
   "id": "b6fb061c",
   "metadata": {},
   "source": [
    "Q.4: What are some common exceptions that are built-in to Python?\n",
    "\n",
    "Ans: Python provides several built-in exceptions that cover a wide range of common error conditions. Here are some of the commonly used built-in exceptions in Python:\n",
    "\n",
    "1. TypeError: Raised when an operation or function is performed on an object of inappropriate type.\n",
    "2. ValueError: Raised when a function receives an argument of the correct type but with an invalid value.\n",
    "3. IndexError: Raised when attempting to access an index that is out of range for a sequence (e.g., list, string).\n",
    "4. KeyError: Raised when trying to access a dictionary key that does not exist.\n",
    "5. FileNotFoundError: Raised when a file or directory is requested but cannot be found.\n",
    "6. ZeroDivisionError: Raised when division or modulo operation is performed with zero as the divisor.\n",
    "7. ImportError: Raised when importing a module or package fails.\n",
    "8. AttributeError: Raised when an attribute or method is accessed on an object that does not have it.\n",
    "9. NameError: Raised when a local or global name is not found or not defined.\n",
    "10. IOError: Raised when an input/output operation fails.\n",
    "\n",
    "These are just a few examples of built-in exceptions in Python. There are many more exceptions available to handle specific error conditions that may arise during program execution. By catching and handling these exceptions, you can gracefully handle errors and ensure your program doesn't terminate unexpectedly."
   ]
  },
  {
   "cell_type": "markdown",
   "id": "54eed2bf",
   "metadata": {},
   "source": [
    "Q.5: What is logging in Python, and why is it important in software development?\n",
    "\n",
    "Ans: Logging in Python is a mechanism that allows you to record and store messages or events that occur during the execution of a program. It provides a way to track and analyze the behavior of the software.\n",
    "\n",
    "Logging is important in software development for the following reasons:\n",
    "\n",
    "1. Debugging: Logging helps in identifying and diagnosing issues or bugs in the software by providing detailed information about the program's execution flow, variable values, and error messages.\n",
    "\n",
    "2. Monitoring: It allows monitoring the application's behavior in production environments by capturing logs that can be analyzed to identify performance bottlenecks, usage patterns, and potential issues.\n",
    "\n",
    "3. Auditing: Logging can serve as an audit trail, recording important events or actions in the system, providing accountability, and helping with compliance requirements.\n",
    "\n",
    "4. Maintenance: Logs can assist in maintaining and improving the software by providing insights into its usage patterns, identifying areas for optimization, and tracking changes over time.\n",
    "\n",
    "By incorporating logging into your code, you can gain visibility into the program's execution and effectively troubleshoot issues, leading to more robust and reliable software."
   ]
  },
  {
   "cell_type": "markdown",
   "id": "c1f60526",
   "metadata": {},
   "source": [
    "Q.6: Explain the purpose of log levels in Python logging and provide examples of when\n",
    "each log level would be appropriate.\n",
    "\n",
    "Ans: Log levels in Python logging provide a way to categorize and prioritize log messages based on their severity or importance. They allow developers to control the verbosity of log output and filter messages based on their relevance.\n",
    "\n",
    "Here are some commonly used log levels in Python logging and examples of when each level would be appropriate:\n",
    "\n",
    "1. DEBUG: Used for detailed information during development and debugging. Example: Printing variable values, function calls, or intermediate steps.\n",
    "\n",
    "2. INFO: Used for informational messages that indicate the normal operation of the program. Example: Start or stop events, configuration changes, or important milestones.\n",
    "\n",
    "3. WARNING: Used for non-critical issues or warnings that may require attention but don't affect the program's functionality. Example: Deprecated functions, potential errors, or recoverable failures.\n",
    "\n",
    "4. ERROR: Used for errors that prevent the program from functioning as intended. Example: Exception traceback, critical failures, or unexpected conditions.\n",
    "\n",
    "5. CRITICAL: Used for severe errors that may result in program termination or significant data loss. Example: System crashes, unrecoverable errors, or security breaches.\n",
    "\n",
    "By setting an appropriate log level, you can control the level of detail in your log output and focus on the relevant information for troubleshooting and monitoring purposes."
   ]
  },
  {
   "cell_type": "markdown",
   "id": "59806532",
   "metadata": {},
   "source": [
    "Q.7: What are log formatters in Python logging, and how can you customise the log\n",
    "message format using formatters?\n",
    "\n",
    "Ans: Log formatters in Python logging allow you to define the structure and content of log messages. They determine how log records are formatted and presented in the log output.\n",
    "\n",
    "Formatters in Python logging provide flexibility in customizing the log message format. You can specify various elements such as timestamp, log level, module name, function name, and the actual log message itself.\n",
    "\n",
    "To customize the log message format using formatters, you can follow these steps:\n",
    "\n",
    "1. Create an instance of the logging.Formatter class.\n",
    "2. Define the desired log message format using placeholders and formatting codes.\n",
    "3. Set the formatter for the desired log handler using the setFormatter() method."
   ]
  },
  {
   "cell_type": "code",
   "execution_count": 5,
   "id": "c4c3a461",
   "metadata": {},
   "outputs": [],
   "source": [
    "#Here's an example that demonstrates customizing the log message format using formatters:\n",
    "\n",
    "import logging\n",
    "\n",
    "# Create a formatter\n",
    "formatter = logging.Formatter('%(asctime)s - %(levelname)s - %(message)s')\n",
    "\n",
    "# Create a logger\n",
    "logger = logging.getLogger('my_logger')\n",
    "logger.setLevel(logging.INFO)\n",
    "\n",
    "# Create a file handler and set the formatter\n",
    "file_handler = logging.FileHandler('my_log.log')\n",
    "file_handler.setFormatter(formatter)\n",
    "\n",
    "# Add the file handler to the logger\n",
    "logger.addHandler(file_handler)\n",
    "\n",
    "# Log a message\n",
    "logger.info('This is an informational message.')"
   ]
  },
  {
   "cell_type": "markdown",
   "id": "181d5914",
   "metadata": {},
   "source": [
    "In this example, a formatter is created using the logging.Formatter class with a specific format '%(asctime)s - %(levelname)s - %(message)s'. This format includes placeholders such as %(asctime)s for timestamp, %(levelname)s for log level, and %(message)s for the actual log message.\n",
    "\n",
    "A logger is then created, set to the INFO log level, and a file handler is added to it. The formatter is set for the file handler using the setFormatter() method.\n",
    "\n",
    "When the logger logs a message using the logger.info() method, the log record is formatted according to the specified format in the formatter and written to the log file.\n",
    "\n",
    "By customizing the log message format using formatters, you can structure and present log records in a way that suits your specific needs and makes the log output more meaningful and readable."
   ]
  },
  {
   "cell_type": "markdown",
   "id": "a8e3e56f",
   "metadata": {},
   "source": [
    "Q.8: How can you set up logging to capture log messages from multiple modules or\n",
    "classes in a Python application?\n",
    "\n",
    "Ans: To capture log messages from multiple modules or classes in a Python application, you can follow these steps:\n",
    "\n",
    "1. Import the logging module in each module or class where you want to log messages.\n",
    "2. Create a logger object using logging.getLogger(__name__). The __name__ attribute ensures that the logger's name corresponds to the module or class where it is defined.\n",
    "3. Set the desired log level for the logger using the setLevel() method (e.g., logger.setLevel(logging.INFO)).\n",
    "4. Add log handlers (e.g., FileHandler, StreamHandler) to the logger to define where the log messages should be outputted (e.g., log file, console).\n",
    "5. Optionally, set log formatters for the log handlers using the setFormatter() method to customize the log message format.\n",
    "6. Use the logger's methods (e.g., logger.debug(), logger.info(), logger.error()) to log messages at different log levels in the desired modules or classes.\n",
    "\n",
    "By following this approach, each module or class will have its own logger that can capture log messages specific to that module or class. The log messages will be aggregated and outputted as per the configured log handlers."
   ]
  },
  {
   "cell_type": "code",
   "execution_count": 6,
   "id": "c7f3c746",
   "metadata": {},
   "outputs": [],
   "source": [
    "#Here's a simplified example to illustrate the setup:\n",
    "\n",
    "#Module 1: module1.py\n",
    "\n",
    "import logging\n",
    "\n",
    "logger = logging.getLogger(__name__)\n",
    "logger.setLevel(logging.INFO)\n",
    "\n",
    "handler = logging.FileHandler('module1.log')\n",
    "formatter = logging.Formatter('%(asctime)s - %(levelname)s - %(message)s')\n",
    "handler.setFormatter(formatter)\n",
    "\n",
    "logger.addHandler(handler)\n",
    "\n",
    "def some_function():\n",
    "    logger.info('Log message from module 1')\n",
    "\n",
    "\n",
    "#Module 2: module2.py\n",
    "\n",
    "import logging\n",
    "\n",
    "logger = logging.getLogger(__name__)\n",
    "logger.setLevel(logging.INFO)\n",
    "\n",
    "handler = logging.StreamHandler()\n",
    "formatter = logging.Formatter('%(asctime)s - %(levelname)s - %(message)s')\n",
    "handler.setFormatter(formatter)\n",
    "\n",
    "logger.addHandler(handler)\n",
    "\n",
    "class SomeClass:\n",
    "    def some_method(self):\n",
    "        logger.info('Log message from module 2')"
   ]
  },
  {
   "cell_type": "markdown",
   "id": "fce4fa76",
   "metadata": {},
   "source": [
    "In this example, module1.py and module2.py are separate modules. Each module defines its own logger with specific configurations such as log level and log handlers. The log messages from module1.py are logged to a file, while the log messages from module2.py are logged to the console.\n",
    "\n",
    "By organizing logging in this way, you can capture and manage log messages from multiple modules or classes within your Python application effectively."
   ]
  },
  {
   "cell_type": "markdown",
   "id": "46b64505",
   "metadata": {},
   "source": [
    "Q.9: What is the difference between the logging and print statements in Python? When\n",
    "should you use logging over print statements in a real-world application?\n",
    "\n",
    "Ans: The main difference between logging and print statements in Python is their purpose and usage.\n",
    "\n",
    "1. Purpose: The print statement is primarily used for displaying information during development or debugging, whereas the logging module is designed specifically for generating log messages for various purposes such as debugging, error tracking, and monitoring in production environments.\n",
    "\n",
    "2. Output Control: print statements output directly to the console, while the logging module provides flexibility in directing log messages to different outputs like files, email, databases, or remote servers. Additionally, logging supports different log levels, allowing you to filter and control the verbosity of log output.\n",
    "\n",
    "3. Flexibility: The logging module allows you to format log messages, add timestamps, include additional contextual information, and handle log messages in a more structured manner. It provides finer-grained control over logging behavior and allows you to customize log output based on the application's needs.\n",
    "\n",
    "In a real-world application, it is recommended to use the logging module over print statements for the following reasons:\n",
    "\n",
    "1. Maintainability: Logging statements can be easily disabled or enabled or redirected to different outputs without modifying the code, making it more maintainable and adaptable to different deployment environments.\n",
    "\n",
    "2. Debugging and Troubleshooting: Logging allows you to include detailed information about the application's state, variable values, and execution flow, aiding in debugging and troubleshooting issues in production environments where direct access to the console may not be available.\n",
    "\n",
    "3. Production Readiness: Using the logging module ensures that your application is ready for production deployment, as it provides a standardized way to capture and manage log messages, which are essential for monitoring, performance analysis, and error tracking.\n",
    "\n",
    "Overall, logging is more suited for professional software development, offering greater control, flexibility, and scalability in managing and analyzing log messages compared to simple print statements."
   ]
  },
  {
   "cell_type": "markdown",
   "id": "3f699454",
   "metadata": {},
   "source": [
    "Q.10: Write a Python program that logs a message to a file named \"app.log\" with the\n",
    "following requirements:\n",
    "● The log message should be \"Hello, World!\"\n",
    "● The log level should be set to \"INFO.\"\n",
    "● The log file should append new log entries without overwriting previous ones."
   ]
  },
  {
   "cell_type": "code",
   "execution_count": 7,
   "id": "e419f3dd",
   "metadata": {},
   "outputs": [],
   "source": [
    "#Here's an example Python program that logs a message to a file named \"app.log\" with the specified requirements:\n",
    "\n",
    "import logging\n",
    "\n",
    "# Configure logging\n",
    "logging.basicConfig(\n",
    "    filename='app.log',\n",
    "    level=logging.INFO,\n",
    "    format='%(asctime)s - %(levelname)s - %(message)s',\n",
    "    filemode='a'  # Append mode\n",
    ")\n",
    "\n",
    "# Log the message\n",
    "logging.info('Hello, World!')"
   ]
  },
  {
   "cell_type": "markdown",
   "id": "f44d2a03",
   "metadata": {},
   "source": [
    "In this program:\n",
    "\n",
    "1. The logging.basicConfig() function is used to configure the logging system.\n",
    "2. The filename parameter specifies the name of the log file as \"app.log\".\n",
    "3. The level parameter is set to logging.INFO to ensure that only log messages with an \"INFO\" level or higher will be recorded.\n",
    "4. The format parameter defines the format of the log message, including the timestamp, log level, and actual message.\n",
    "5. The filemode parameter is set to 'a', which enables appending mode so that new log entries are added to the file without overwriting the previous ones.\n",
    "6. The logging.info() method is used to log the specified message \"Hello, World!\" at the \"INFO\" log level.\n",
    "\n",
    "When you run this program, it will log the message \"Hello, World!\" to the \"app.log\" file in the specified format, using the \"INFO\" log level. Subsequent executions of the program will append new log entries to the same file without overwriting the previous ones."
   ]
  },
  {
   "attachments": {},
   "cell_type": "markdown",
   "id": "11da5577",
   "metadata": {},
   "source": [
    "Q.11: Create a Python program that logs an error message to the console and a file named\n",
    "\"errors.log\" if an exception occurs during the program's execution. The error\n",
    "message should include the exception type and a timestamp.\n",
    "\n",
    "Ans: Here's a Python program that logs an error message to the console and a file named \"errors.log\" when an exception occurs during execution. The error message includes the exception type and a timestamp."
   ]
  },
  {
   "cell_type": "code",
   "execution_count": 8,
   "id": "eae56cf4",
   "metadata": {},
   "outputs": [],
   "source": [
    "import logging\n",
    "import datetime\n",
    "\n",
    "# Configure logging\n",
    "logging.basicConfig(\n",
    "    level=logging.ERROR,\n",
    "    format='%(asctime)s - %(levelname)s - %(message)s',\n",
    ")\n",
    "\n",
    "# Create a file handler\n",
    "file_handler = logging.FileHandler('errors.log')\n",
    "file_handler.setLevel(logging.ERROR)\n",
    "file_handler.setFormatter(logging.Formatter('%(asctime)s - %(levelname)s - %(message)s'))\n",
    "\n",
    "# Add the file handler to the root logger\n",
    "logging.getLogger('').addHandler(file_handler)\n",
    "\n",
    "try:\n",
    "    # Your code that may raise an exception\n",
    "    1 / 0\n",
    "except Exception as e:\n",
    "    # Log the exception\n",
    "    logging.error(f'Exception: {type(e).__name__} - Timestamp: {datetime.datetime.now()}')"
   ]
  },
  {
   "cell_type": "markdown",
   "id": "f9e79b0f",
   "metadata": {},
   "source": [
    "In this program:\n",
    "\n",
    "1. The logging.basicConfig() function is used to configure the logging system. The level parameter is set to logging.ERROR to only log error messages or higher.\n",
    "2. A file handler is created using the FileHandler class, specifying the filename as \"errors.log\".\n",
    "3. The file handler's level is set to logging.ERROR, ensuring that only error messages are recorded in the file.\n",
    "4. A formatter is set for the file handler to include the timestamp, log level, and message in the specified format.\n",
    "5. The file handler is added to the root logger using logging.getLogger('').addHandler(file_handler).\n",
    "6. The code inside the try block represents your code that may raise an exception. In this example, a ZeroDivisionError is intentionally raised (1 / 0).\n",
    "7. In the except block, the exception is caught, and an error message is logged using the logging.error() method. The message includes the exception type (type(e).__name__) and the current timestamp (datetime.datetime.now()).\n",
    "\n",
    "When an exception occurs during program execution, it will be logged as an error to both the console and the \"errors.log\" file, including the exception type and timestamp."
   ]
  }
 ],
 "metadata": {
  "kernelspec": {
   "display_name": "Python 3 (ipykernel)",
   "language": "python",
   "name": "python3"
  },
  "language_info": {
   "codemirror_mode": {
    "name": "ipython",
    "version": 3
   },
   "file_extension": ".py",
   "mimetype": "text/x-python",
   "name": "python",
   "nbconvert_exporter": "python",
   "pygments_lexer": "ipython3",
   "version": "3.9.12"
  }
 },
 "nbformat": 4,
 "nbformat_minor": 5
}
