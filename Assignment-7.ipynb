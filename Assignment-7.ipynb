{
 "cells": [
  {
   "cell_type": "code",
   "execution_count": null,
   "id": "d64bc7a9",
   "metadata": {},
   "outputs": [],
   "source": [
    "1. Create two int type variables, apply addition, subtraction, division and multiplications and store the results in variables. \n",
    "Then print the data in the following format by calling the variables:\n",
    "\n",
    "First variable is __ & second variable is __.\n",
    "Addition: __ + __ = __\n",
    "Subtraction: __ - __ = __\n",
    "Multiplication: __ * __ = __\n",
    "Division: __ / __ = __"
   ]
  },
  {
   "cell_type": "code",
   "execution_count": 2,
   "id": "dbfc3828",
   "metadata": {},
   "outputs": [
    {
     "name": "stdout",
     "output_type": "stream",
     "text": [
      "First variable is 15 & second variable is 5\n",
      "Addition: 15 + 5 = 20\n",
      "Subtraction: 15 - 5 = 10\n",
      "Multiplication: 15 * 5 = 75\n",
      "Division: 15 / 5 = 3.0\n"
     ]
    }
   ],
   "source": [
    "#Ans: \n",
    "# Create two int variables\n",
    "first_variable = 15\n",
    "second_variable = 5\n",
    "\n",
    "# Perform arithmetic operations and store results in variables\n",
    "addition = first_variable + second_variable\n",
    "subtraction = first_variable - second_variable\n",
    "multiplication = first_variable * second_variable\n",
    "division = first_variable / second_variable\n",
    "\n",
    "# Print the data in the desired format\n",
    "print(\"First variable is\", first_variable, \"& second variable is\", second_variable)\n",
    "print(\"Addition:\", first_variable, \"+\", second_variable, \"=\", addition)\n",
    "print(\"Subtraction:\", first_variable, \"-\", second_variable, \"=\", subtraction)\n",
    "print(\"Multiplication:\", first_variable, \"*\", second_variable, \"=\", multiplication)\n",
    "print(\"Division:\", first_variable, \"/\", second_variable, \"=\", division)"
   ]
  },
  {
   "cell_type": "code",
   "execution_count": null,
   "id": "ab5f7d2c",
   "metadata": {},
   "outputs": [],
   "source": [
    "2. What is the difference between the following operators:\n",
    "(i) ‘/’ & ‘//’\n",
    "(ii) ‘**’ & ‘^’"
   ]
  },
  {
   "cell_type": "code",
   "execution_count": 10,
   "id": "9baa6f4e",
   "metadata": {},
   "outputs": [
    {
     "name": "stdout",
     "output_type": "stream",
     "text": [
      "5.666666666666667\n",
      "5\n"
     ]
    }
   ],
   "source": [
    "'''\n",
    "Ans:\n",
    "(i) '/' and '//':\n",
    "\n",
    "a. '/' is the division operator in Python, which performs floating-point division. It returns the exact quotient, \n",
    "including any decimal places.\n",
    "\n",
    "b. '//' is the floor division operator in Python, also known as integer division. It performs division and rounds \n",
    "the result down to the nearest whole number, discarding any decimal places.\n",
    "'''\n",
    "#Here's an example to illustrate the difference:\n",
    "a = 17\n",
    "b = 3\n",
    "\n",
    "result1 = a / b\n",
    "result2 = a // b\n",
    "\n",
    "print(result1)  # Output: 5.666666666666667\n",
    "print(result2)  # Output: 5\n",
    "\n",
    "'''\n",
    "In this example, a / b performs floating-point division and returns a float value. The result is 5.666666666666667. \n",
    "On the other hand, a // b performs floor division and returns an integer value. The result is 5, rounded down to the nearest whole number.\n",
    "'''"
   ]
  },
  {
   "cell_type": "code",
   "execution_count": 11,
   "id": "2c062f79",
   "metadata": {},
   "outputs": [
    {
     "name": "stdout",
     "output_type": "stream",
     "text": [
      "16\n"
     ]
    }
   ],
   "source": [
    "'''\n",
    "(ii) '**' and '^':\n",
    "\n",
    "a. '**' is the exponentiation operator in Python, used to raise a number to a power. \n",
    "It calculates the result of the base raised to the exponent.\n",
    "\n",
    "b. '^' is not a valid exponentiation operator in Python. Instead, it is the bitwise XOR operator, used for performing \n",
    "bitwise exclusive OR operation between two integers.\n",
    "'''\n",
    "#Here's an example to illustrate the usage of the exponentiation operator:\n",
    "base = 2\n",
    "exponent = 4\n",
    "\n",
    "result = base ** exponent\n",
    "\n",
    "print(result)  # Output: 16\n",
    "\n",
    "'''\n",
    "In this example, base ** exponent raises the base (2) to the power of the exponent (3), resulting in 8.\n",
    "'''"
   ]
  },
  {
   "cell_type": "code",
   "execution_count": null,
   "id": "12c9673f",
   "metadata": {},
   "outputs": [],
   "source": [
    "3. List the logical operators.\n",
    "Ans: In Python, the logical operators are used to combine or manipulate boolean values. Here are the logical operators in Python:\n",
    "\n",
    "a. 'and': The logical \"and\" operator returns True if both operands are True, and False otherwise.\n",
    "\n",
    "b. 'or': The logical \"or\" operator returns True if at least one of the operands is True, and False otherwise.\n",
    "\n",
    "c. 'not': The logical \"not\" operator negates the value of its operand. If the operand is True, not returns False, \n",
    "    and if the operand is False, not returns True.\n",
    "\n",
    "These logical operators can be used to perform logical operations and make decisions based on conditions in Python programs."
   ]
  },
  {
   "cell_type": "code",
   "execution_count": null,
   "id": "ebff915f",
   "metadata": {},
   "outputs": [],
   "source": [
    "4. Explain right shift operator and left shift operator with examples.\n",
    "Ans: In Python, the right shift operator (>>) and left shift operator (<<) are bitwise shift operators that operate on integer values. \n",
    "    These operators shift the bits of a number to the right or left, respectively, by a specified number of positions.\n",
    "\n",
    "a. Right Shift Operator (>>): The right shift operator shifts the bits of a number to the right by the specified number of positions. \n",
    "    Each shift to the right effectively divides the number by 2.\n",
    "    \n",
    "b. Left Shift Operator (<<): The left shift operator shifts the bits of a number to the left by the specified number of positions. \n",
    "    Each shift to the left effectively multiplies the number by 2."
   ]
  },
  {
   "cell_type": "code",
   "execution_count": 12,
   "id": "055918a4",
   "metadata": {},
   "outputs": [
    {
     "name": "stdout",
     "output_type": "stream",
     "text": [
      "5\n",
      "20\n"
     ]
    },
    {
     "data": {
      "text/plain": [
       "'\\nIn this example, the number 10 in binary is 1010. Shifting it to the left by 1 position using number << 1 \\neffectively multiplies the number by 2. The resulting value is 20.\\n'"
      ]
     },
     "execution_count": 12,
     "metadata": {},
     "output_type": "execute_result"
    }
   ],
   "source": [
    "#Here's an example to illustrate the right shift operator:\n",
    "number = 10  # Binary: 1010\n",
    "\n",
    "# Right shift by 1 position\n",
    "result = number >> 1\n",
    "\n",
    "print(result)  # Output: 5\n",
    "'''\n",
    "In this example, the number 10 in binary is 1010. Shifting it to the right by 1 position using number >> 1 \n",
    "effectively divides the number by 2. The resulting value is 5.\n",
    "'''\n",
    "\n",
    "#Here's an example to illustrate the left shift operator:\n",
    "number = 10  # Binary: 1010\n",
    "\n",
    "# Left shift by 1 position\n",
    "result = number << 1\n",
    "\n",
    "print(result)  # Output: 20\n",
    "'''\n",
    "In this example, the number 10 in binary is 1010. Shifting it to the left by 1 position using number << 1 \n",
    "effectively multiplies the number by 2. The resulting value is 20.\n",
    "'''"
   ]
  },
  {
   "cell_type": "code",
   "execution_count": 13,
   "id": "564da818",
   "metadata": {},
   "outputs": [
    {
     "name": "stdout",
     "output_type": "stream",
     "text": [
      "10 is present in the list.\n"
     ]
    }
   ],
   "source": [
    "#5. Create a list containing int type data of length 15. Then write a code to check if 10 is present in the list or not.\n",
    "#Ans:\n",
    "\n",
    "# Create a list of length 15 with integer values\n",
    "my_list = [5, 2, 8, 12, 7, 3, 10, 1, 9, 15, 6, 4, 11, 13, 14]\n",
    "\n",
    "# Check if 10 is present in the list\n",
    "if 10 in my_list:\n",
    "    print(\"10 is present in the list.\")\n",
    "else:\n",
    "    print(\"10 is not present in the list.\")"
   ]
  }
 ],
 "metadata": {
  "kernelspec": {
   "display_name": "Python 3 (ipykernel)",
   "language": "python",
   "name": "python3"
  },
  "language_info": {
   "codemirror_mode": {
    "name": "ipython",
    "version": 3
   },
   "file_extension": ".py",
   "mimetype": "text/x-python",
   "name": "python",
   "nbconvert_exporter": "python",
   "pygments_lexer": "ipython3",
   "version": "3.9.12"
  }
 },
 "nbformat": 4,
 "nbformat_minor": 5
}
